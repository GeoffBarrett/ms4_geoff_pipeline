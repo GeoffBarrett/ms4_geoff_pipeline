{
 "cells": [
  {
   "cell_type": "code",
   "execution_count": 1,
   "metadata": {},
   "outputs": [],
   "source": [
    "from p_ms4_geoff import sort_dataset\n",
    "import os\n",
    "import numpy as np"
   ]
  },
  {
   "cell_type": "code",
   "execution_count": 2,
   "metadata": {},
   "outputs": [],
   "source": [
    "def get_ubuntu_path(filepath):\n",
    "    # get the drive letter\n",
    "\n",
    "    drive_letter_i = filepath.find(':/')\n",
    "\n",
    "    if drive_letter_i == -1:\n",
    "        drive_letter_i = filepath.find(':\\\\')\n",
    "\n",
    "    drive_letter = filepath[:drive_letter_i].lower()\n",
    "\n",
    "    i = 1\n",
    "    while drive_letter_i + i == '/':\n",
    "        i += 1\n",
    "\n",
    "    remaining_path = filepath[drive_letter_i + i + 1:]\n",
    "    linux_path = '/mnt/%s/%s' % (drive_letter, remaining_path)\n",
    "    \n",
    "    # add single quotes so linux can understand the special characters\n",
    "    if '(' in linux_path or ')' in linux_path:\n",
    "        linux_path = \"'%s'\" % linux_path\n",
    "\n",
    "    return os.path.normpath((linux_path)).replace('\\\\', '/')"
   ]
  },
  {
   "cell_type": "code",
   "execution_count": 3,
   "metadata": {},
   "outputs": [
    {
     "name": "stdout",
     "output_type": "stream",
     "text": [
      "/mnt/e/Apollo_D_Drive/04032018/b6_march_18_1_180403_150327_T4.mda\n"
     ]
    }
   ],
   "source": [
    "raw_fname = 'E://Apollo_D_Drive//04032018//b6_march_18_1_180403_150327_T4.mda'\n",
    "raw_fname = get_ubuntu_path(raw_fname)\n",
    "print(raw_fname)"
   ]
  },
  {
   "cell_type": "code",
   "execution_count": 4,
   "metadata": {},
   "outputs": [
    {
     "name": "stdout",
     "output_type": "stream",
     "text": [
      "/mnt/e/Apollo_D_Drive/04032018/b6_march_18_1_180403_150327_T4_pre.mda /mnt/e/Apollo_D_Drive/04032018/b6_march_18_1_180403_150327_T4_firings.mda /mnt/e/Apollo_D_Drive/04032018/b6_march_18_1_180403_150327_T4_metrics.json\n"
     ]
    }
   ],
   "source": [
    "pre_out_fname = os.path.splitext(raw_fname)[0] + '_pre.mda'\n",
    "firings_out = os.path.splitext(raw_fname)[0] + '_firings.mda'\n",
    "metrics_out_fname = os.path.splitext(raw_fname)[0] + '_metrics.json'\n",
    "print(pre_out_fname, firings_out, metrics_out_fname)"
   ]
  },
  {
   "cell_type": "code",
   "execution_count": 5,
   "metadata": {},
   "outputs": [
    {
     "data": {
      "text/plain": [
       "'/mnt/e/Apollo_D_Drive/04032018/b6_march_18_1_180403_150327_T4_firings.mda'"
      ]
     },
     "execution_count": 5,
     "metadata": {},
     "output_type": "execute_result"
    }
   ],
   "source": [
    "firings_out"
   ]
  },
  {
   "cell_type": "code",
   "execution_count": 6,
   "metadata": {
    "scrolled": false
   },
   "outputs": [
    {
     "name": "stdout",
     "output_type": "stream",
     "text": [
      "Creating the following pre-process file: /mnt/e/Apollo_D_Drive/04032018/b6_march_18_1_180403_150327_T4_pre.mda\n",
      "RUNNING: ml-run-process ephys.bandpass_filter --inputs timeseries:/mnt/e/Apollo_D_Drive/04032018/b6_march_18_1_180403_150327_T4.mda --parameters freq_max:7000 freq_min:300 samplerate:30000 --outputs timeseries_out:/mnt/e/Apollo_D_Drive/04032018/filt.mda.prv\n",
      "\u001b[34m[ Getting processor spec... ]\u001b[0m\n",
      "\u001b[34m[ Checking inputs and substituting prvs ... ]\u001b[0m\n",
      "\u001b[34m[ Computing process signature ... ]\u001b[0m\n",
      "\u001b[34m[ Checking outputs... ]\u001b[0m\n",
      "\u001b[34m[ Checking process cache ... ]\u001b[0m\n",
      "\u001b[34m[ Process ephys.bandpass_filter already completed. ]\u001b[0m\n",
      "\u001b[34m[ Creating output prv for timeseries_out ... ]\u001b[0m\n",
      "\u001b[34m[ Done. ]\u001b[0m\n",
      "RUNNING: ml-run-process ephys.whiten --inputs timeseries:/mnt/e/Apollo_D_Drive/04032018/filt.mda.prv --parameters --outputs timeseries_out:/mnt/e/Apollo_D_Drive/04032018/b6_march_18_1_180403_150327_T4_pre.mda\n",
      "\u001b[34m[ Getting processor spec... ]\u001b[0m\n",
      "\u001b[34m[ Checking inputs and substituting prvs ... ]\u001b[0m\n",
      "\u001b[34mLocating /mnt/e/Apollo_D_Drive/04032018/filt.mda.prv ...\u001b[0m\n",
      "\u001b[34m[ Computing process signature ... ]\u001b[0m\n",
      "\u001b[34m[ Checking outputs... ]\u001b[0m\n",
      "\u001b[34m[ Checking process cache ... ]\u001b[0m\n",
      "\u001b[34m[ Process ephys.whiten already completed. ]\u001b[0m\n",
      "\u001b[34m[ Done. ]\u001b[0m\n",
      "RUNNING: ml-run-process ms4alg.sort --inputs timeseries:/mnt/e/Apollo_D_Drive/04032018/b6_march_18_1_180403_150327_T4_pre.mda --parameters adjacency_radius:-1 clip_size:50 detect_sign:1 detect_threshold:3 --outputs firings_out:/mnt/e/Apollo_D_Drive/04032018/b6_march_18_1_180403_150327_T4_firings.mda\n",
      "\u001b[34m[ Getting processor spec... ]\u001b[0m\n",
      "\u001b[34m[ Checking inputs and substituting prvs ... ]\u001b[0m\n",
      "\u001b[34m[ Computing process signature ... ]\u001b[0m\n",
      "\u001b[34m[ Checking outputs... ]\u001b[0m\n",
      "\u001b[34m[ Checking process cache ... ]\u001b[0m\n",
      "\u001b[34m[ Process ms4alg.sort already completed. ]\u001b[0m\n",
      "\u001b[34m[ Done. ]\u001b[0m\n",
      "RUNNING: ml-run-process ms3.cluster_metrics --inputs firings:/mnt/e/Apollo_D_Drive/04032018/b6_march_18_1_180403_150327_T4_firings.mda timeseries:/mnt/e/Apollo_D_Drive/04032018/b6_march_18_1_180403_150327_T4_pre.mda --parameters samplerate:30000 --outputs cluster_metrics_out:/mnt/e/Apollo_D_Drive/MountainSortTempJs/mountainlab/tmp_short_term/output_cluster_metrics_out_1cb93042695daf5ae42bd91cef55eac941133739.prv\n",
      "\u001b[34m[ Getting processor spec... ]\u001b[0m\n",
      "\u001b[34m[ Checking inputs and substituting prvs ... ]\u001b[0m\n",
      "\u001b[34m[ Computing process signature ... ]\u001b[0m\n",
      "\u001b[34m[ Checking outputs... ]\u001b[0m\n",
      "\u001b[34m[ Checking process cache ... ]\u001b[0m\n",
      "\u001b[34m[ Process ms3.cluster_metrics already completed. ]\u001b[0m\n",
      "\u001b[34m[ Creating output prv for cluster_metrics_out ... ]\u001b[0m\n",
      "\u001b[34m[ Done. ]\u001b[0m\n",
      "RUNNING: ml-run-process ms3.isolation_metrics --inputs firings:/mnt/e/Apollo_D_Drive/04032018/b6_march_18_1_180403_150327_T4_firings.mda timeseries:/mnt/e/Apollo_D_Drive/04032018/b6_march_18_1_180403_150327_T4_pre.mda --parameters compute_bursting_parents:true --outputs metrics_out:/mnt/e/Apollo_D_Drive/MountainSortTempJs/mountainlab/tmp_short_term/output_metrics_out_513b7f4ce9c3a06caa8ef0a19673e483ac87a38c.prv\n",
      "\u001b[34m[ Getting processor spec... ]\u001b[0m\n",
      "\u001b[34m[ Checking inputs and substituting prvs ... ]\u001b[0m\n",
      "\u001b[34m[ Computing process signature ... ]\u001b[0m\n",
      "\u001b[34m[ Checking outputs... ]\u001b[0m\n",
      "\u001b[34m[ Checking process cache ... ]\u001b[0m\n",
      "\u001b[34m[ Process ms3.isolation_metrics already completed. ]\u001b[0m\n",
      "\u001b[34m[ Creating output prv for metrics_out ... ]\u001b[0m\n",
      "\u001b[34m[ Done. ]\u001b[0m\n",
      "RUNNING: ml-run-process ms3.combine_cluster_metrics --inputs metrics_list:/mnt/e/Apollo_D_Drive/MountainSortTempJs/mountainlab/tmp_short_term/output_cluster_metrics_out_1cb93042695daf5ae42bd91cef55eac941133739.prv metrics_list:/mnt/e/Apollo_D_Drive/MountainSortTempJs/mountainlab/tmp_short_term/output_metrics_out_513b7f4ce9c3a06caa8ef0a19673e483ac87a38c.prv --parameters --outputs metrics_out:/mnt/e/Apollo_D_Drive/04032018/temp_metrics.json\n",
      "\u001b[34m[ Getting processor spec... ]\u001b[0m\n",
      "\u001b[34m[ Checking inputs and substituting prvs ... ]\u001b[0m\n",
      "\u001b[34mLocating /mnt/e/Apollo_D_Drive/MountainSortTempJs/mountainlab/tmp_short_term/output_cluster_metrics_out_1cb93042695daf5ae42bd91cef55eac941133739.prv ...\u001b[0m\n",
      "\u001b[34mLocating /mnt/e/Apollo_D_Drive/MountainSortTempJs/mountainlab/tmp_short_term/output_metrics_out_513b7f4ce9c3a06caa8ef0a19673e483ac87a38c.prv ...\u001b[0m\n",
      "\u001b[34m[ Computing process signature ... ]\u001b[0m\n",
      "\u001b[34m[ Checking outputs... ]\u001b[0m\n",
      "\u001b[34m[ Checking process cache ... ]\u001b[0m\n",
      "\u001b[34m[ Creating temporary directory ... ]\u001b[0m\n",
      "\u001b[34m[ Preparing temporary outputs... ]\u001b[0m\n",
      "\u001b[34m[ Initializing process ... ]\u001b[0m\n",
      "\u001b[34m[ Running ... ] /root/conda/envs/mlab/etc/mountainlab/packages/ms3.mp ms3.combine_cluster_metrics --metrics_list=/mnt/e/Apollo_D_Drive/MountainSortTempJs/output_9876768e85fb6ba6daf3415b745eef952eaae180_cluster_metrics_out --metrics_list=/mnt/e/Apollo_D_Drive/MountainSortTempJs/output_6c2947644ff9cc6f54e167a5a1cf516861ac808d_metrics_out --metrics_out=/mnt/e/Apollo_D_Drive/MountainSortTempJs/tempdir_44009d62f9_djnDvF/output_metrics_out.json --_tempdir=/mnt/e/Apollo_D_Drive/MountainSortTempJs/tempdir_44009d62f9_djnDvF\u001b[0m\n",
      "\u001b[34mElapsed time for processor ms3.combine_cluster_metrics: 0.065 sec\u001b[0m\n",
      "\u001b[34mFinalizing output metrics_out\u001b[0m\n",
      "\u001b[34m[ Saving to process cache ... ]\u001b[0m\n",
      "\u001b[34m[ Removing temporary directory ... ]\u001b[0m\n",
      "\u001b[34m[ Done. ]\u001b[0m\n",
      "RUNNING: ml-run-process pyms.add_curation_tags --inputs metrics:/mnt/e/Apollo_D_Drive/04032018/temp_metrics.json --parameters firing_rate_thresh:0.05 isolation_thresh:0.95 noise_overlap_thresh:0.03 peak_snr_thresh:1.5 --outputs metrics_tagged:/mnt/e/Apollo_D_Drive/04032018/b6_march_18_1_180403_150327_T4_metrics.json\n",
      "\u001b[34m[ Getting processor spec... ]\u001b[0m\n",
      "\u001b[34m[ Checking inputs and substituting prvs ... ]\u001b[0m\n",
      "\u001b[34m[ Computing process signature ... ]\u001b[0m\n",
      "\u001b[34m[ Checking outputs... ]\u001b[0m\n",
      "\u001b[34m[ Checking process cache ... ]\u001b[0m\n",
      "\u001b[34m[ Process pyms.add_curation_tags already completed. ]\u001b[0m\n",
      "\u001b[34m[ Done. ]\u001b[0m\n"
     ]
    }
   ],
   "source": [
    "sort_dataset(timeseries=raw_fname, pre_out_fname=pre_out_fname, metrics_out_fname=metrics_out_fname, firings_out=firings_out)"
   ]
  },
  {
   "cell_type": "code",
   "execution_count": null,
   "metadata": {},
   "outputs": [],
   "source": []
  }
 ],
 "metadata": {
  "kernelspec": {
   "display_name": "Python 3",
   "language": "python",
   "name": "python3"
  },
  "language_info": {
   "codemirror_mode": {
    "name": "ipython",
    "version": 3
   },
   "file_extension": ".py",
   "mimetype": "text/x-python",
   "name": "python",
   "nbconvert_exporter": "python",
   "pygments_lexer": "ipython3",
   "version": "3.5.2"
  }
 },
 "nbformat": 4,
 "nbformat_minor": 2
}
