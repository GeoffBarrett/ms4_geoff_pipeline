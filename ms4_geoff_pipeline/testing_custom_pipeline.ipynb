{
 "cells": [
  {
   "cell_type": "code",
   "execution_count": 1,
   "metadata": {},
   "outputs": [],
   "source": [
    "from p_ms4_geoff import sort_dataset\n",
    "import os\n",
    "import numpy as np"
   ]
  },
  {
   "cell_type": "code",
   "execution_count": 2,
   "metadata": {},
   "outputs": [],
   "source": [
    "def get_ubuntu_path(filepath):\n",
    "    # get the drive letter\n",
    "\n",
    "    drive_letter_i = filepath.find(':/')\n",
    "\n",
    "    if drive_letter_i == -1:\n",
    "        drive_letter_i = filepath.find(':\\\\')\n",
    "\n",
    "    drive_letter = filepath[:drive_letter_i].lower()\n",
    "\n",
    "    i = 1\n",
    "    while drive_letter_i + i == '/':\n",
    "        i += 1\n",
    "\n",
    "    remaining_path = filepath[drive_letter_i + i + 1:]\n",
    "    linux_path = '/mnt/%s/%s' % (drive_letter, remaining_path)\n",
    "    \n",
    "    # add single quotes so linux can understand the special characters\n",
    "    if '(' in linux_path or ')' in linux_path:\n",
    "        linux_path = \"'%s'\" % linux_path\n",
    "\n",
    "    return os.path.normpath((linux_path)).replace('\\\\', '/')"
   ]
  },
  {
   "cell_type": "code",
   "execution_count": 3,
   "metadata": {},
   "outputs": [
    {
     "name": "stdout",
     "output_type": "stream",
     "text": [
      "/mnt/e/Apollo_D_Drive/04032018/b6_march_18_1_180403_150327_T4.mda\n"
     ]
    }
   ],
   "source": [
    "raw_fname = 'E://Apollo_D_Drive//04032018//b6_march_18_1_180403_150327_T4.mda'\n",
    "raw_fname = get_ubuntu_path(raw_fname)\n",
    "print(raw_fname)"
   ]
  },
  {
   "cell_type": "code",
   "execution_count": 4,
   "metadata": {},
   "outputs": [
    {
     "name": "stdout",
     "output_type": "stream",
     "text": [
      "/mnt/e/Apollo_D_Drive/04032018/b6_march_18_1_180403_150327_T4_pre.mda /mnt/e/Apollo_D_Drive/04032018/b6_march_18_1_180403_150327_T4_firings.mda /mnt/e/Apollo_D_Drive/04032018/b6_march_18_1_180403_150327_T4_metrics.json\n"
     ]
    }
   ],
   "source": [
    "pre_out_fname = os.path.splitext(raw_fname)[0] + '_pre.mda'\n",
    "firings_out = os.path.splitext(raw_fname)[0] + '_firings.mda'\n",
    "metrics_out_fname = os.path.splitext(raw_fname)[0] + '_metrics.json'\n",
    "print(pre_out_fname, firings_out, metrics_out_fname)"
   ]
  },
  {
   "cell_type": "code",
   "execution_count": 5,
   "metadata": {},
   "outputs": [
    {
     "data": {
      "text/plain": [
       "'/mnt/e/Apollo_D_Drive/04032018/b6_march_18_1_180403_150327_T4_firings.mda'"
      ]
     },
     "execution_count": 5,
     "metadata": {},
     "output_type": "execute_result"
    }
   ],
   "source": [
    "firings_out"
   ]
  },
  {
   "cell_type": "code",
   "execution_count": 6,
   "metadata": {
    "scrolled": false
   },
   "outputs": [
    {
     "ename": "UnboundLocalError",
     "evalue": "local variable 'pre_fname' referenced before assignment",
     "output_type": "error",
     "traceback": [
      "\u001b[0;31m---------------------------------------------------------------------------\u001b[0m",
      "\u001b[0;31mUnboundLocalError\u001b[0m                         Traceback (most recent call last)",
      "\u001b[0;32m<ipython-input-6-5427d36d3837>\u001b[0m in \u001b[0;36m<module>\u001b[0;34m()\u001b[0m\n\u001b[0;32m----> 1\u001b[0;31m \u001b[0msort_dataset\u001b[0m\u001b[0;34m(\u001b[0m\u001b[0mtimeseries\u001b[0m\u001b[0;34m=\u001b[0m\u001b[0mraw_fname\u001b[0m\u001b[0;34m,\u001b[0m \u001b[0mpre_out_fname\u001b[0m\u001b[0;34m=\u001b[0m\u001b[0mpre_out_fname\u001b[0m\u001b[0;34m,\u001b[0m \u001b[0mmetrics_out_fname\u001b[0m\u001b[0;34m=\u001b[0m\u001b[0mmetrics_out_fname\u001b[0m\u001b[0;34m,\u001b[0m \u001b[0mfirings_out\u001b[0m\u001b[0;34m=\u001b[0m\u001b[0mfirings_out\u001b[0m\u001b[0;34m)\u001b[0m\u001b[0;34m\u001b[0m\u001b[0m\n\u001b[0m",
      "\u001b[0;32m/mnt/e/Apollo_D_Drive/ms4_geoff_pipeline/ms4_geoff_pipeline/p_ms4_geoff.py\u001b[0m in \u001b[0;36msort_dataset\u001b[0;34m(timeseries, geom_fname, params_fname, firings_out, pre_out_fname, metrics_out_fname, timeseries_raw, freq_min, freq_max, samplerate, detect_sign, adjacency_radius, detect_threshold, detect_interval, clip_size, firing_rate_thresh, isolation_thresh, noise_overlap_thresh, peak_snr_thresh, opts)\u001b[0m\n\u001b[1;32m     73\u001b[0m         \u001b[0mmetrics_out_fname\u001b[0m \u001b[0;34m=\u001b[0m \u001b[0;32mNone\u001b[0m\u001b[0;34m\u001b[0m\u001b[0m\n\u001b[1;32m     74\u001b[0m \u001b[0;34m\u001b[0m\u001b[0m\n\u001b[0;32m---> 75\u001b[0;31m     \u001b[0;32mif\u001b[0m \u001b[0mpre_fname\u001b[0m \u001b[0;34m==\u001b[0m \u001b[0;34m''\u001b[0m\u001b[0;34m:\u001b[0m\u001b[0;34m\u001b[0m\u001b[0m\n\u001b[0m\u001b[1;32m     76\u001b[0m         \u001b[0mpre_fname\u001b[0m \u001b[0;34m=\u001b[0m \u001b[0;32mNone\u001b[0m\u001b[0;34m\u001b[0m\u001b[0m\n\u001b[1;32m     77\u001b[0m \u001b[0;34m\u001b[0m\u001b[0m\n",
      "\u001b[0;31mUnboundLocalError\u001b[0m: local variable 'pre_fname' referenced before assignment"
     ]
    }
   ],
   "source": [
    "sort_dataset(timeseries=raw_fname, pre_out_fname=pre_out_fname, metrics_out_fname=metrics_out_fname, firings_out=firings_out)"
   ]
  },
  {
   "cell_type": "code",
   "execution_count": null,
   "metadata": {},
   "outputs": [],
   "source": []
  }
 ],
 "metadata": {
  "kernelspec": {
   "display_name": "Python 3",
   "language": "python",
   "name": "python3"
  },
  "language_info": {
   "codemirror_mode": {
    "name": "ipython",
    "version": 3
   },
   "file_extension": ".py",
   "mimetype": "text/x-python",
   "name": "python",
   "nbconvert_exporter": "python",
   "pygments_lexer": "ipython3",
   "version": "3.5.2"
  }
 },
 "nbformat": 4,
 "nbformat_minor": 2
}
